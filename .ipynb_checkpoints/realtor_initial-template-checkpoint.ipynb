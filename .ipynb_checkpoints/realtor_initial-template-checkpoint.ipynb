{
 "cells": [
  {
   "cell_type": "markdown",
   "id": "06a4f218",
   "metadata": {},
   "source": [
    "### Step 1 - Imports"
   ]
  },
  {
   "cell_type": "code",
   "execution_count": 1,
   "id": "5e4e29b1",
   "metadata": {},
   "outputs": [],
   "source": [
    "import requests\n",
    "import pandas as pd"
   ]
  },
  {
   "cell_type": "markdown",
   "id": "42fa3ec2",
   "metadata": {},
   "source": [
    "### Step 2 - Requests & CURL"
   ]
  },
  {
   "cell_type": "code",
   "execution_count": 2,
   "id": "567b46b1",
   "metadata": {},
   "outputs": [],
   "source": [
    "headers = {\n",
    "    'authority': 'api2.realtor.ca',\n",
    "    'accept': '*/*',\n",
    "    'accept-language': 'en-US,en;q=0.9',\n",
    "    'content-type': 'application/x-www-form-urlencoded; charset=UTF-8',\n",
    "    'cookie': 'visid_incap_2269415=rfbvVpQIQ1WFmUgT6hkIaN+xnWUAAAAAQUIPAAAAAAALb+/tGiZvQh3+xq4x6KnR; incap_ses_531_2269415=DLdjMbuRLXG/NRWNtH5eB9+xnWUAAAAAWQk+Y/61KZLjVd+8kXLLXQ==; _gcl_au=1.1.1411270287.1704833507; _gid=GA1.2.1899458390.1704833508; gig_bootstrap_3_mrQiIl6ov44s2X3j6NGWVZ9SDDtplqV7WgdcyEpGYnYxl7ygDWPQHqQqtpSiUfko=gigya-pr_ver4; visid_incap_2271082=KdPX/R4kQlGxE9p6O30pnOWxnWUAAAAAQUIPAAAAAAB2wK9RYfRaCTXGJnh97TUY; nlbi_2271082=YZm/eX4YAWdoBcA8VPrQ3QAAAADz+O+CSUVq1whSeVCKYPZc; incap_ses_531_2271082=9+4+NsV/SgRdOhWNtH5eB+WxnWUAAAAANwHku5IxGXG1/Rg/6MXUAQ==; reese84=3:d9jc0e02udkOlw8iwX5jJA==:HZrzYdnBn8rln0peGCHE9UW5JyHe9cKi76BMmeGyDVfq8hbVNqPNT1KE+yF0ZdxelaP9rPBLcj8nj6rWO1xl9r946t38KRm9aPhD4RL6P7zEZg+KzmKgTHenksBhU/Rbi+3ovcye3yhz66JD4jbtpxFEC2CB4sYyhQCFWqXlRG/i6NWy3NEyelBmf+RCXn73RoJljUWL4/OqO53MI9xCsCpPbPGLvsDHdUZN4QoCp4+LUkCQhAN4MjvO2eLFDt0awZsO6QdjWi48pMdEuhiNOE7cRoNLvhh9dl8LnFJunxjth7xTdE+ObAdLVZzl/wmcOomN3wPSArXFWDf+OLh9I1Fi4MY9xtpA+hTxhoDO/0aPirZFAHcVyNuXFuT1kullM7dXGp+2ev/kXODIIzLZulOyX+UTa68jOjwJdJEo2yg/kT9S2Bhwhbu7MDsQ4z/U2H71Xm0ueTRSioG9ObSY/A==:tkouTk6VzPlZ9dNyIVAIZ0GMGT2dnbfe4kSVcsOIwy0=; _ga=GA1.2.101701529.1704833508; _ga_Y07J3B53QP=GS1.1.1704833507.1.1.1704834405.60.0.0; _gali=ListViewPagination_Bottom',\n",
    "    'origin': 'https://www.realtor.ca',\n",
    "    'referer': 'https://www.realtor.ca/',\n",
    "    'sec-ch-ua': '^\\\\^Not_A',\n",
    "    'sec-ch-ua-mobile': '?0',\n",
    "    'sec-ch-ua-platform': '^\\\\^Windows^\\\\^',\n",
    "    'sec-fetch-dest': 'empty',\n",
    "    'sec-fetch-mode': 'cors',\n",
    "    'sec-fetch-site': 'same-site',\n",
    "    'user-agent': 'Mozilla/5.0 (Windows NT 10.0; Win64; x64) AppleWebKit/537.36 (KHTML, like Gecko) Chrome/120.0.0.0 Safari/537.36',\n",
    "}\n",
    "\n",
    "data = {\n",
    "  'ZoomLevel': '11',\n",
    "  'LatitudeMax': '43.89690',\n",
    "  'LongitudeMax': '-79.05332',\n",
    "  'LatitudeMin': '43.51868',\n",
    "  'LongitudeMin': '-79.69945',\n",
    "  'Sort': '6-D',\n",
    "  'PropertyTypeGroupID': '1',\n",
    "  'TransactionTypeId': '2',\n",
    "  'PropertySearchTypeId': '0',\n",
    "  'Currency': 'CAD',\n",
    "  'RecordsPerPage': '12',\n",
    "  'ApplicationId': '1',\n",
    "  'CultureId': '1',\n",
    "  'Version': '7.0',\n",
    "  'CurrentPage': '1'\n",
    "}\n",
    "\n",
    "response = requests.post('https://api2.realtor.ca/Listing.svc/PropertySearch_Post', headers=headers, data=data)\n"
   ]
  },
  {
   "cell_type": "code",
   "execution_count": null,
   "id": "e2d047d1",
   "metadata": {},
   "outputs": [],
   "source": []
  },
  {
   "cell_type": "markdown",
   "id": "220dc50a",
   "metadata": {},
   "source": [
    "### Step 3 - Check Status Code"
   ]
  },
  {
   "cell_type": "code",
   "execution_count": 3,
   "id": "cd3e0785",
   "metadata": {},
   "outputs": [
    {
     "data": {
      "text/plain": [
       "<Response [200]>"
      ]
     },
     "execution_count": 3,
     "metadata": {},
     "output_type": "execute_result"
    }
   ],
   "source": [
    "response"
   ]
  },
  {
   "cell_type": "markdown",
   "id": "d9580cac",
   "metadata": {},
   "source": [
    "### Step 4 - Create Json Object"
   ]
  },
  {
   "cell_type": "code",
   "execution_count": 6,
   "id": "52648089",
   "metadata": {},
   "outputs": [],
   "source": [
    "result_json = response.json()"
   ]
  },
  {
   "cell_type": "markdown",
   "id": "8f0631a6",
   "metadata": {},
   "source": [
    "### Step 5 - Output Keys"
   ]
  },
  {
   "cell_type": "code",
   "execution_count": 7,
   "id": "b69dc520",
   "metadata": {},
   "outputs": [
    {
     "data": {
      "text/plain": [
       "dict_keys(['ErrorCode', 'Paging', 'Results', 'Pins', 'GroupingLevel'])"
      ]
     },
     "execution_count": 7,
     "metadata": {},
     "output_type": "execute_result"
    }
   ],
   "source": [
    "result_json.keys()"
   ]
  },
  {
   "cell_type": "markdown",
   "id": "4b4b1e44",
   "metadata": {},
   "source": [
    "#### Step 6 - Find your data\n",
    "\n",
    "- Address\n",
    "- Bedroom\n",
    "- Bathrooms\n",
    "- Agent Name\n",
    "- Area Code\n",
    "- Phone Number\n",
    "- Price"
   ]
  },
  {
   "cell_type": "code",
   "execution_count": 10,
   "id": "7118cec3",
   "metadata": {},
   "outputs": [],
   "source": [
    "# starting point\n",
    "result_items = result_json['Results']"
   ]
  },
  {
   "cell_type": "code",
   "execution_count": 11,
   "id": "46723ae3",
   "metadata": {},
   "outputs": [
    {
     "data": {
      "text/plain": [
       "12"
      ]
     },
     "execution_count": 11,
     "metadata": {},
     "output_type": "execute_result"
    }
   ],
   "source": [
    "len(result_items)"
   ]
  },
  {
   "cell_type": "code",
   "execution_count": 14,
   "id": "c7032884",
   "metadata": {},
   "outputs": [
    {
     "data": {
      "text/plain": [
       "'222 CHURCH ST|Toronto, Ontario M9N1P1'"
      ]
     },
     "execution_count": 14,
     "metadata": {},
     "output_type": "execute_result"
    }
   ],
   "source": [
    "# address\n",
    "result_items[0]['Property']['Address']['AddressText']"
   ]
  },
  {
   "cell_type": "code",
   "execution_count": 16,
   "id": "dbe0bce9",
   "metadata": {},
   "outputs": [
    {
     "data": {
      "text/plain": [
       "'3 + 1'"
      ]
     },
     "execution_count": 16,
     "metadata": {},
     "output_type": "execute_result"
    }
   ],
   "source": [
    "# bedrooms\n",
    "result_items[0]['Building']['Bedrooms']"
   ]
  },
  {
   "cell_type": "code",
   "execution_count": 17,
   "id": "a027da64",
   "metadata": {},
   "outputs": [
    {
     "data": {
      "text/plain": [
       "'2'"
      ]
     },
     "execution_count": 17,
     "metadata": {},
     "output_type": "execute_result"
    }
   ],
   "source": [
    "# bathrooms\n",
    "result_items[0]['Building']['BathroomTotal']"
   ]
  },
  {
   "cell_type": "code",
   "execution_count": 18,
   "id": "bdd82d84",
   "metadata": {},
   "outputs": [
    {
     "data": {
      "text/plain": [
       "'FRANK PAPEO'"
      ]
     },
     "execution_count": 18,
     "metadata": {},
     "output_type": "execute_result"
    }
   ],
   "source": [
    "# agent name\n",
    "result_items[0]['Individual'][0]['Name']"
   ]
  },
  {
   "cell_type": "code",
   "execution_count": 21,
   "id": "72ecad76",
   "metadata": {},
   "outputs": [
    {
     "data": {
      "text/plain": [
       "'416'"
      ]
     },
     "execution_count": 21,
     "metadata": {},
     "output_type": "execute_result"
    }
   ],
   "source": [
    "# area code\n",
    "result_items[0]['Individual'][0]['Phones'][0]['AreaCode']"
   ]
  },
  {
   "cell_type": "code",
   "execution_count": 22,
   "id": "84c44e1d",
   "metadata": {},
   "outputs": [
    {
     "data": {
      "text/plain": [
       "'230-6737'"
      ]
     },
     "execution_count": 22,
     "metadata": {},
     "output_type": "execute_result"
    }
   ],
   "source": [
    "# telephone\n",
    "result_items[0]['Individual'][0]['Phones'][0]['PhoneNumber']"
   ]
  },
  {
   "cell_type": "code",
   "execution_count": 23,
   "id": "67eb8ecf",
   "metadata": {},
   "outputs": [
    {
     "data": {
      "text/plain": [
       "'$749,000'"
      ]
     },
     "execution_count": 23,
     "metadata": {},
     "output_type": "execute_result"
    }
   ],
   "source": [
    "# price\n",
    "result_items[0]['Property']['Price']"
   ]
  },
  {
   "cell_type": "markdown",
   "id": "8f99a5ab",
   "metadata": {},
   "source": [
    "### Step 7 - Put everything together - Loop through results and append data inside a list"
   ]
  },
  {
   "cell_type": "code",
   "execution_count": 28,
   "id": "f2b0bfc1",
   "metadata": {},
   "outputs": [],
   "source": [
    "address = []\n",
    "bedrooms = []\n",
    "bathrooms = []\n",
    "agent_name = []\n",
    "area_code = []\n",
    "phone_number = []\n",
    "price = []\n",
    "\n",
    "for result in result_items:\n",
    "    \n",
    "    # address\n",
    "    try:\n",
    "        address.append(result['Property']['Address']['AddressText'])\n",
    "    \n",
    "    except:\n",
    "        address.append('')\n",
    "    \n",
    "    # bedrooms\n",
    "    try:\n",
    "        bedrooms.append(result['Building']['Bedrooms'])\n",
    "    \n",
    "    except:\n",
    "        bedrooms.append('')\n",
    "        \n",
    "    try:\n",
    "        # bathrooms\n",
    "        bathrooms.append(result['Building']['BathroomTotal'])\n",
    "    except:\n",
    "        bathrooms.append('')\n",
    "        \n",
    "    try:\n",
    "        # agent name\n",
    "        agent_name.append(result['Individual'][0]['Name'])\n",
    "    except:\n",
    "        agent_name.append('')\n",
    "        \n",
    "    try:\n",
    "        # area code\n",
    "        area_code.append(result['Individual'][0]['Phones'][0]['AreaCode'])\n",
    "    except:\n",
    "        area_code.append('')\n",
    "    \n",
    "    try:\n",
    "        # phone number\n",
    "        phone_number.append(result['Individual'][0]['Phones'][0]['PhoneNumber'])\n",
    "    except:\n",
    "        phone_number.append('')\n",
    "    \n",
    "    try:\n",
    "        # price\n",
    "        price.append(result['Property']['Price'])\n",
    "    except:\n",
    "        price.append('')"
   ]
  },
  {
   "cell_type": "code",
   "execution_count": null,
   "id": "a11e7bf5",
   "metadata": {},
   "outputs": [],
   "source": []
  },
  {
   "cell_type": "markdown",
   "id": "51a0c185",
   "metadata": {},
   "source": [
    "### Step 8 - Pandas Dataframe"
   ]
  },
  {
   "cell_type": "code",
   "execution_count": 30,
   "id": "3a9fcbfe",
   "metadata": {},
   "outputs": [],
   "source": [
    "df_realtor = pd.DataFrame({'Address': address, 'Bedrooms': bedrooms, 'Bathrooms': bathrooms, 'Agent Name': agent_name,\n",
    "                          'Area Code': area_code, 'Telephone': phone_number, 'Price' : price})"
   ]
  },
  {
   "cell_type": "code",
   "execution_count": 31,
   "id": "39bd8f04",
   "metadata": {},
   "outputs": [
    {
     "data": {
      "text/html": [
       "<div>\n",
       "<style scoped>\n",
       "    .dataframe tbody tr th:only-of-type {\n",
       "        vertical-align: middle;\n",
       "    }\n",
       "\n",
       "    .dataframe tbody tr th {\n",
       "        vertical-align: top;\n",
       "    }\n",
       "\n",
       "    .dataframe thead th {\n",
       "        text-align: right;\n",
       "    }\n",
       "</style>\n",
       "<table border=\"1\" class=\"dataframe\">\n",
       "  <thead>\n",
       "    <tr style=\"text-align: right;\">\n",
       "      <th></th>\n",
       "      <th>Address</th>\n",
       "      <th>Bedrooms</th>\n",
       "      <th>Bathrooms</th>\n",
       "      <th>Agent Name</th>\n",
       "      <th>Area Code</th>\n",
       "      <th>Telephone</th>\n",
       "      <th>Price</th>\n",
       "    </tr>\n",
       "  </thead>\n",
       "  <tbody>\n",
       "    <tr>\n",
       "      <th>0</th>\n",
       "      <td>222 CHURCH ST|Toronto, Ontario M9N1P1</td>\n",
       "      <td>3 + 1</td>\n",
       "      <td>2</td>\n",
       "      <td>FRANK PAPEO</td>\n",
       "      <td>416</td>\n",
       "      <td>230-6737</td>\n",
       "      <td>$749,000</td>\n",
       "    </tr>\n",
       "    <tr>\n",
       "      <th>1</th>\n",
       "      <td>#706 -250 SCARLETT RD|Toronto, Ontario M6N4X5</td>\n",
       "      <td>1</td>\n",
       "      <td>1</td>\n",
       "      <td>SOPHIE BOKELMANN</td>\n",
       "      <td>416</td>\n",
       "      <td>660-9502</td>\n",
       "      <td>$579,000</td>\n",
       "    </tr>\n",
       "    <tr>\n",
       "      <th>2</th>\n",
       "      <td>43 NINTH ST|Toronto, Ontario M8V3E2</td>\n",
       "      <td>4 + 2</td>\n",
       "      <td>5</td>\n",
       "      <td>JONATHAN BRADSHAW</td>\n",
       "      <td>416</td>\n",
       "      <td>399-4638</td>\n",
       "      <td>$2,749,900</td>\n",
       "    </tr>\n",
       "    <tr>\n",
       "      <th>3</th>\n",
       "      <td>177 NORTH CARSON ST|Toronto, Ontario M8W4E1</td>\n",
       "      <td>3 + 1</td>\n",
       "      <td>2</td>\n",
       "      <td>JEFF GONCALVES</td>\n",
       "      <td>416</td>\n",
       "      <td>494-7653</td>\n",
       "      <td>$1,160,000</td>\n",
       "    </tr>\n",
       "    <tr>\n",
       "      <th>4</th>\n",
       "      <td>#931 -5 MABELLE AVE|Toronto, Ontario M9A0C8</td>\n",
       "      <td>1</td>\n",
       "      <td>1</td>\n",
       "      <td>BENJAMIN WONG</td>\n",
       "      <td>905</td>\n",
       "      <td>474-1772</td>\n",
       "      <td>$559,990</td>\n",
       "    </tr>\n",
       "    <tr>\n",
       "      <th>5</th>\n",
       "      <td>#PH2 -812 BURNHAMTHORPE RD|Toronto, Ontario M9...</td>\n",
       "      <td>3</td>\n",
       "      <td>2</td>\n",
       "      <td>AIMEE ELIZABETH KAIN</td>\n",
       "      <td>905</td>\n",
       "      <td>467-8200</td>\n",
       "      <td>$699,000</td>\n",
       "    </tr>\n",
       "    <tr>\n",
       "      <th>6</th>\n",
       "      <td>9 GRENADINE CRT|Toronto, Ontario M9L2H5</td>\n",
       "      <td>3 + 1</td>\n",
       "      <td>3</td>\n",
       "      <td>UZAIN ALI</td>\n",
       "      <td>905</td>\n",
       "      <td>265-0100</td>\n",
       "      <td>$1,149,000</td>\n",
       "    </tr>\n",
       "    <tr>\n",
       "      <th>7</th>\n",
       "      <td>28 FAIRBANK AVE|Toronto, Ontario M6E3Y4</td>\n",
       "      <td>3 + 1</td>\n",
       "      <td>2</td>\n",
       "      <td>ANTONIO RICO</td>\n",
       "      <td>905</td>\n",
       "      <td>565-9200</td>\n",
       "      <td>$1,250,000</td>\n",
       "    </tr>\n",
       "    <tr>\n",
       "      <th>8</th>\n",
       "      <td>#901 -10 TOBERMORY DR|Toronto, Ontario M3N2Y5</td>\n",
       "      <td>2</td>\n",
       "      <td>1</td>\n",
       "      <td>TAN VAN LU</td>\n",
       "      <td>905</td>\n",
       "      <td>896-3333</td>\n",
       "      <td>$469,000</td>\n",
       "    </tr>\n",
       "    <tr>\n",
       "      <th>9</th>\n",
       "      <td>#1701 -2240 LAKE SHORE BLVD W|Toronto, Ontario...</td>\n",
       "      <td>1 + 1</td>\n",
       "      <td>1</td>\n",
       "      <td>MATTHEW ROMAN DOROSH</td>\n",
       "      <td>416</td>\n",
       "      <td>903-8423</td>\n",
       "      <td>$717,000</td>\n",
       "    </tr>\n",
       "    <tr>\n",
       "      <th>10</th>\n",
       "      <td>#1603 -840 QUEENS PLATE DR W|Toronto, Ontario ...</td>\n",
       "      <td>1 + 1</td>\n",
       "      <td>2</td>\n",
       "      <td>KRISTINA IANNACI</td>\n",
       "      <td>905</td>\n",
       "      <td>832-6656</td>\n",
       "      <td>$549,900</td>\n",
       "    </tr>\n",
       "    <tr>\n",
       "      <th>11</th>\n",
       "      <td>25 HOLMESDALE RD|Toronto, Ontario M6E1X9</td>\n",
       "      <td>2 + 1</td>\n",
       "      <td>2</td>\n",
       "      <td>SUNDEEP BAHL</td>\n",
       "      <td>647</td>\n",
       "      <td>259-8806</td>\n",
       "      <td>$1,425,000</td>\n",
       "    </tr>\n",
       "  </tbody>\n",
       "</table>\n",
       "</div>"
      ],
      "text/plain": [
       "                                              Address Bedrooms Bathrooms   \n",
       "0               222 CHURCH ST|Toronto, Ontario M9N1P1    3 + 1         2  \\\n",
       "1       #706 -250 SCARLETT RD|Toronto, Ontario M6N4X5        1         1   \n",
       "2                 43 NINTH ST|Toronto, Ontario M8V3E2    4 + 2         5   \n",
       "3         177 NORTH CARSON ST|Toronto, Ontario M8W4E1    3 + 1         2   \n",
       "4         #931 -5 MABELLE AVE|Toronto, Ontario M9A0C8        1         1   \n",
       "5   #PH2 -812 BURNHAMTHORPE RD|Toronto, Ontario M9...        3         2   \n",
       "6             9 GRENADINE CRT|Toronto, Ontario M9L2H5    3 + 1         3   \n",
       "7             28 FAIRBANK AVE|Toronto, Ontario M6E3Y4    3 + 1         2   \n",
       "8       #901 -10 TOBERMORY DR|Toronto, Ontario M3N2Y5        2         1   \n",
       "9   #1701 -2240 LAKE SHORE BLVD W|Toronto, Ontario...    1 + 1         1   \n",
       "10  #1603 -840 QUEENS PLATE DR W|Toronto, Ontario ...    1 + 1         2   \n",
       "11           25 HOLMESDALE RD|Toronto, Ontario M6E1X9    2 + 1         2   \n",
       "\n",
       "              Agent Name Area Code Telephone       Price  \n",
       "0            FRANK PAPEO       416  230-6737    $749,000  \n",
       "1       SOPHIE BOKELMANN       416  660-9502    $579,000  \n",
       "2      JONATHAN BRADSHAW       416  399-4638  $2,749,900  \n",
       "3         JEFF GONCALVES       416  494-7653  $1,160,000  \n",
       "4          BENJAMIN WONG       905  474-1772    $559,990  \n",
       "5   AIMEE ELIZABETH KAIN       905  467-8200    $699,000  \n",
       "6              UZAIN ALI       905  265-0100  $1,149,000  \n",
       "7           ANTONIO RICO       905  565-9200  $1,250,000  \n",
       "8             TAN VAN LU       905  896-3333    $469,000  \n",
       "9   MATTHEW ROMAN DOROSH       416  903-8423    $717,000  \n",
       "10      KRISTINA IANNACI       905  832-6656    $549,900  \n",
       "11          SUNDEEP BAHL       647  259-8806  $1,425,000  "
      ]
     },
     "execution_count": 31,
     "metadata": {},
     "output_type": "execute_result"
    }
   ],
   "source": [
    "df_realtor"
   ]
  },
  {
   "cell_type": "markdown",
   "id": "24302497",
   "metadata": {},
   "source": [
    "### Step 10 - Multiple Pages"
   ]
  },
  {
   "cell_type": "code",
   "execution_count": null,
   "id": "96cecc70",
   "metadata": {},
   "outputs": [],
   "source": [
    "address = []\n",
    "bedrooms = []\n",
    "bathrooms = []\n",
    "agent_name = []\n",
    "area_code = []\n",
    "phone_number = []\n",
    "price = []\n",
    "\n",
    "for i in range(1, 51):\n",
    "    \n",
    "    headers = {\n",
    "    'authority': 'api2.realtor.ca',\n",
    "    'accept': '*/*',\n",
    "    'accept-language': 'en-US,en;q=0.9',\n",
    "    'content-type': 'application/x-www-form-urlencoded; charset=UTF-8',\n",
    "    'cookie': 'visid_incap_2269415=rfbvVpQIQ1WFmUgT6hkIaN+xnWUAAAAAQUIPAAAAAAALb+/tGiZvQh3+xq4x6KnR; incap_ses_531_2269415=DLdjMbuRLXG/NRWNtH5eB9+xnWUAAAAAWQk+Y/61KZLjVd+8kXLLXQ==; _gcl_au=1.1.1411270287.1704833507; _gid=GA1.2.1899458390.1704833508; gig_bootstrap_3_mrQiIl6ov44s2X3j6NGWVZ9SDDtplqV7WgdcyEpGYnYxl7ygDWPQHqQqtpSiUfko=gigya-pr_ver4; visid_incap_2271082=KdPX/R4kQlGxE9p6O30pnOWxnWUAAAAAQUIPAAAAAAB2wK9RYfRaCTXGJnh97TUY; nlbi_2271082=YZm/eX4YAWdoBcA8VPrQ3QAAAADz+O+CSUVq1whSeVCKYPZc; incap_ses_531_2271082=9+4+NsV/SgRdOhWNtH5eB+WxnWUAAAAANwHku5IxGXG1/Rg/6MXUAQ==; reese84=3:d9jc0e02udkOlw8iwX5jJA==:HZrzYdnBn8rln0peGCHE9UW5JyHe9cKi76BMmeGyDVfq8hbVNqPNT1KE+yF0ZdxelaP9rPBLcj8nj6rWO1xl9r946t38KRm9aPhD4RL6P7zEZg+KzmKgTHenksBhU/Rbi+3ovcye3yhz66JD4jbtpxFEC2CB4sYyhQCFWqXlRG/i6NWy3NEyelBmf+RCXn73RoJljUWL4/OqO53MI9xCsCpPbPGLvsDHdUZN4QoCp4+LUkCQhAN4MjvO2eLFDt0awZsO6QdjWi48pMdEuhiNOE7cRoNLvhh9dl8LnFJunxjth7xTdE+ObAdLVZzl/wmcOomN3wPSArXFWDf+OLh9I1Fi4MY9xtpA+hTxhoDO/0aPirZFAHcVyNuXFuT1kullM7dXGp+2ev/kXODIIzLZulOyX+UTa68jOjwJdJEo2yg/kT9S2Bhwhbu7MDsQ4z/U2H71Xm0ueTRSioG9ObSY/A==:tkouTk6VzPlZ9dNyIVAIZ0GMGT2dnbfe4kSVcsOIwy0=; _ga=GA1.2.101701529.1704833508; _ga_Y07J3B53QP=GS1.1.1704833507.1.1.1704834405.60.0.0; _gali=ListViewPagination_Bottom',\n",
    "    'origin': 'https://www.realtor.ca',\n",
    "    'referer': 'https://www.realtor.ca/',\n",
    "    'sec-ch-ua': '^\\\\^Not_A',\n",
    "    'sec-ch-ua-mobile': '?0',\n",
    "    'sec-ch-ua-platform': '^\\\\^Windows^\\\\^',\n",
    "    'sec-fetch-dest': 'empty',\n",
    "    'sec-fetch-mode': 'cors',\n",
    "    'sec-fetch-site': 'same-site',\n",
    "    'user-agent': 'Mozilla/5.0 (Windows NT 10.0; Win64; x64) AppleWebKit/537.36 (KHTML, like Gecko) Chrome/120.0.0.0 Safari/537.36',\n",
    "    }\n",
    "\n",
    "    data = {\n",
    "      'ZoomLevel': '11',\n",
    "      'LatitudeMax': '43.89690',\n",
    "      'LongitudeMax': '-79.05332',\n",
    "      'LatitudeMin': '43.51868',\n",
    "      'LongitudeMin': '-79.69945',\n",
    "      'Sort': '6-D',\n",
    "      'PropertyTypeGroupID': '1',\n",
    "      'TransactionTypeId': '2',\n",
    "      'PropertySearchTypeId': '0',\n",
    "      'Currency': 'CAD',\n",
    "      'RecordsPerPage': '12',\n",
    "      'ApplicationId': '1',\n",
    "      'CultureId': '1',\n",
    "      'Version': '7.0',\n",
    "      'CurrentPage': str(i),\n",
    "    }\n",
    "    \n",
    "    # response\n",
    "    response = requests.post('https://api2.realtor.ca/Listing.svc/PropertySearch_Post', headers=headers, data=data)\n",
    "    \n",
    "    # json object\n",
    "    result_json = response.json()\n",
    "    \n",
    "    #result items\n",
    "    result_items = result_json['Results']\n",
    "    \n",
    "    for result in result_items:\n",
    "    \n",
    "        # address\n",
    "        try:\n",
    "            address.append(result['Property']['Address']['AddressText'])\n",
    "\n",
    "        except:\n",
    "            address.append('')\n",
    "\n",
    "        # bedrooms\n",
    "        try:\n",
    "            bedrooms.append(result['Building']['Bedrooms'])\n",
    "\n",
    "        except:\n",
    "            bedrooms.append('')\n",
    "\n",
    "        try:\n",
    "            # bathrooms\n",
    "            bathrooms.append(result['Building']['BathroomTotal'])\n",
    "        except:\n",
    "            bathrooms.append('')\n",
    "\n",
    "        try:\n",
    "            # agent name\n",
    "            agent_name.append(result['Individual'][0]['Name'])\n",
    "        except:\n",
    "            agent_name.append('')\n",
    "\n",
    "        try:\n",
    "            # area code\n",
    "            area_code.append(result['Individual'][0]['Phones'][0]['AreaCode'])\n",
    "        except:\n",
    "            area_code.append('')\n",
    "\n",
    "        try:\n",
    "            # phone number\n",
    "            phone_number.append(result['Individual'][0]['Phones'][0]['PhoneNumber'])\n",
    "        except:\n",
    "            phone_number.append('')\n",
    "\n",
    "        try:\n",
    "            # price\n",
    "            price.append(result['Property']['Price'])\n",
    "        except:\n",
    "            price.append('')\n"
   ]
  },
  {
   "cell_type": "markdown",
   "id": "38a2a46a",
   "metadata": {},
   "source": [
    "### Step 10 - Store results in Excel"
   ]
  },
  {
   "cell_type": "code",
   "execution_count": null,
   "id": "86f63d96",
   "metadata": {},
   "outputs": [],
   "source": []
  },
  {
   "cell_type": "markdown",
   "id": "85990f48",
   "metadata": {},
   "source": []
  }
 ],
 "metadata": {
  "kernelspec": {
   "display_name": "py39",
   "language": "python",
   "name": "py39"
  },
  "language_info": {
   "codemirror_mode": {
    "name": "ipython",
    "version": 3
   },
   "file_extension": ".py",
   "mimetype": "text/x-python",
   "name": "python",
   "nbconvert_exporter": "python",
   "pygments_lexer": "ipython3",
   "version": "3.9.16"
  }
 },
 "nbformat": 4,
 "nbformat_minor": 5
}
